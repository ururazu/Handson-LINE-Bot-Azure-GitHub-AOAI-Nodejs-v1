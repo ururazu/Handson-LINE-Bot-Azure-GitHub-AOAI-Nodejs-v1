{
  "nbformat": 4,
  "nbformat_minor": 0,
  "metadata": {
    "colab": {
      "provenance": [],
      "authorship_tag": "ABX9TyNEe66yHQNa+SUOzqdH3Jhx",
      "include_colab_link": true
    },
    "kernelspec": {
      "name": "python3",
      "display_name": "Python 3"
    },
    "language_info": {
      "name": "python"
    }
  },
  "cells": [
    {
      "cell_type": "markdown",
      "metadata": {
        "id": "view-in-github",
        "colab_type": "text"
      },
      "source": [
        "<a href=\"https://colab.research.google.com/github/ururazu/Handson-LINE-Bot-Azure-GitHub-AOAI-Nodejs-v1/blob/main/%E3%83%97%E3%83%AD%E3%82%B0%E3%83%A9%E3%83%9F%E3%83%B3%E3%82%B0%E5%9F%BA%E7%A4%8E_%E7%AC%AC%EF%BC%94%E5%9B%9E.ipynb\" target=\"_parent\"><img src=\"https://colab.research.google.com/assets/colab-badge.svg\" alt=\"Open In Colab\"/></a>"
      ]
    },
    {
      "cell_type": "markdown",
      "source": [
        "#学生番号：2410015\n",
        "#名前：漆原和輝"
      ],
      "metadata": {
        "id": "G1LG9PCxYL0T"
      }
    },
    {
      "cell_type": "code",
      "execution_count": 1,
      "metadata": {
        "id": "LUZMM_5FOBXU"
      },
      "outputs": [],
      "source": [
        "class List(object):\n",
        "    def cons(self, e):\n",
        "        pass\n",
        "    def append(self, l):\n",
        "        pass\n",
        "    def len(self):\n",
        "        pass\n",
        "    def __str__(self):\n",
        "        pass\n"
      ]
    },
    {
      "cell_type": "code",
      "source": [
        "\"\"\"\n",
        "リストクラスの説明\n",
        "\n",
        "リストクラスは４つの関数を持っている。\n",
        "cons関数は引数として、selfとeを受け取る。\n",
        "append関数は引数として、selfとlを受け取る。\n",
        "len関数は引数として、selfを受け取る。\n",
        "__str__関数は引数として、selfを受け取る。\n",
        "\n",
        "どの関数も処理はpassなので何もしない\n",
        "\"\"\""
      ],
      "metadata": {
        "id": "z_T9R6CPO0KJ"
      },
      "execution_count": null,
      "outputs": []
    },
    {
      "cell_type": "code",
      "source": [
        "class Nil(List):\n",
        "    def cons(self, e):\n",
        "        return NnList(e, self)\n",
        "\n",
        "    def append(self,l):\n",
        "        return l\n",
        "\n",
        "    def len(self):\n",
        "        return 0\n",
        "\n",
        "    def __str__(self):\n",
        "        return 'nil'"
      ],
      "metadata": {
        "id": "oI4s1iYFODQR"
      },
      "execution_count": 2,
      "outputs": []
    },
    {
      "cell_type": "code",
      "source": [
        "\"\"\"\n",
        "クラスnilの説明\n",
        "\n",
        "cons関数は引数として、selfとeを受け取る。\n",
        "返り値としてNnListクラスの返り値を返す。\n",
        "append関数は引数として、selfとlを受け取る。\n",
        "返り値としてlを返す。\n",
        "len関数は引数として、selfを受け取る。\n",
        "正常を表す0を返す。\n",
        "__str__関数は引数として、selfを受け取る。\n",
        "文字列としてnilを返す。\n",
        "\"\"\""
      ],
      "metadata": {
        "id": "YSLocikyO2PV"
      },
      "execution_count": null,
      "outputs": []
    },
    {
      "cell_type": "code",
      "source": [
        "class NnList(List):\n",
        "  head = None\n",
        "  tail = Nil()\n",
        "  def __init__(self,h,t):\n",
        "    self.head = h\n",
        "    self.tail = t\n",
        "  def cons(self,e):\n",
        "    return NnList(e,self)\n",
        "  def append(self,l):\n",
        "    return NnList(self.head,self.tail.append(l))\n",
        "  def len(self):\n",
        "    return 1 + self.tail.len()\n",
        "  def __str__(self):\n",
        "    return str(self.head) + ' | ' + str(self.tail)"
      ],
      "metadata": {
        "id": "AP4JrCi4OGdU"
      },
      "execution_count": 3,
      "outputs": []
    },
    {
      "cell_type": "code",
      "source": [
        "\"\"\"\n",
        "クラスNnListの説明\n",
        "\n",
        "必ず宣言する必要はないが分かりやすくするため\n",
        "head = None\n",
        "tail = Nil()\n",
        "を宣言している\n",
        "\n",
        "init関数は特別な関数でclassが呼び出されたときに一度だけ実行される。\n",
        "この仕様のため初期設定などによく用いられる\n",
        "__init__関数は引数として、self,h,tを受け取る。\n",
        "\n",
        "\n",
        "cons関数は引数として、selfとeを受け取る。\n",
        "eをリストの先頭に追加する\n",
        "返り値はNnListクラスの返り値を返す。\n",
        "append関数は引数として、selfとlを受け取る。\n",
        "ｌをリストの末尾に追加する\n",
        "返り値としてNnListクラスの返り値を返す。\n",
        "append関数は引数として、selfとlを受け取る。\n",
        "返り値としてNnListクラスの返り値を返す\n",
        "\"\"\""
      ],
      "metadata": {
        "id": "LvWVxdaWO4S3"
      },
      "execution_count": null,
      "outputs": []
    },
    {
      "cell_type": "code",
      "source": [
        "def qsort(lst):\n",
        "  if lst.len() <= 1:\n",
        "    return lst\n",
        "  else:\n",
        "    pair = partition(lst.head,lst.tail)\n",
        "    return qsort(pair[0]).append(qsort(pair[1]).cons(lst.head))"
      ],
      "metadata": {
        "id": "S6Yu-pXmOIyY"
      },
      "execution_count": 4,
      "outputs": []
    },
    {
      "cell_type": "code",
      "source": [
        "\"\"\"\n",
        "クイックソートを行う関数の説明\n",
        "lstの長さが1以下ならlstを返す\n",
        "それ以外ならlstを0番目の要素と1番目以降の要素で区切り\n",
        "partition関数を呼び出す\n",
        "返り値はqsort(pair[0])のリスト\n",
        " + [lst[0]]０番目の要素のリスト\n",
        " + qsort(pair[1])のリスト\n",
        "\"\"\""
      ],
      "metadata": {
        "id": "T0c1P9gTO6Ch"
      },
      "execution_count": null,
      "outputs": []
    },
    {
      "cell_type": "code",
      "source": [
        "def partition(pvt,lst):\n",
        "  pair = (Nil(), Nil())\n",
        "  while isinstance(lst,NnList):\n",
        "    e = lst.head\n",
        "    lst = lst.tail\n",
        "    fl = pair[0]\n",
        "    sl = pair[1]\n",
        "  if e < pvt:\n",
        "    pair = (fl.cons(e), sl)\n",
        "  else:\n",
        "    pair = (fl, sl.cons(e))\n",
        "  return pair"
      ],
      "metadata": {
        "id": "nWWufQIVOHp9"
      },
      "execution_count": 5,
      "outputs": []
    },
    {
      "cell_type": "code",
      "source": [
        "\"\"\"\n",
        "partition関数の説明\n",
        "pvtより大きいか小さいかを判定し値を返す\n",
        "まず空のリストを作成\n",
        "lstの長さが0以上ならループ\n",
        "  e に lst[0]を代入\n",
        "  st に lst[1:]を代入\n",
        "  fl に pair[0]を代入\n",
        "  sl に pair[1]を代入\n",
        "\n",
        "  pvtよりも小さければflに追加し\n",
        "  それ以外ならslに追加\n",
        "返り値としてpariを返す\n",
        "\"\"\""
      ],
      "metadata": {
        "id": "BNKXUqw9O7Em"
      },
      "execution_count": null,
      "outputs": []
    },
    {
      "cell_type": "code",
      "source": [
        "l0 = Nil()\n",
        "l1 = NnList(2,l0)\n",
        "l2 = NnList(6,l1)\n",
        "l3 = NnList(3,l2)\n",
        "l4 = NnList(0,l3)\n",
        "l5 = NnList(1,l4)\n",
        "l6 = NnList(5,l5)\n",
        "l7 = NnList(7,l6)\n",
        "l8 = NnList(4,l7)\n",
        "\n",
        "\n",
        "print(str(l8))\n",
        "print(str(qsort(l8)))"
      ],
      "metadata": {
        "colab": {
          "base_uri": "https://localhost:8080/",
          "height": 0
        },
        "id": "5708zPoDOMuA",
        "outputId": "0963344c-5c96-46a4-d95c-284c8fc804d7"
      },
      "execution_count": 6,
      "outputs": [
        {
          "output_type": "stream",
          "name": "stdout",
          "text": [
            "4 | 7 | 5 | 1 | 0 | 3 | 6 | 2 | nil\n",
            "2 | 4 | nil\n"
          ]
        }
      ]
    },
    {
      "cell_type": "code",
      "source": [
        "\"\"\"\n",
        "リストを作成して\n",
        "ソート前のリストと\n",
        "ソート後のリストを表示する\n",
        "\n",
        "\"\"\""
      ],
      "metadata": {
        "id": "e2EYn5JoO-RF"
      },
      "execution_count": null,
      "outputs": []
    },
    {
      "cell_type": "code",
      "source": [
        "def msort(lst):\n",
        "  if lst.len() <= 1:\n",
        "    return lst\n",
        "  else:\n",
        "    l1 = Nil()\n",
        "    l2 = Nil()\n",
        "    flag = True\n",
        "    while isinstance(lst,NnList):\n",
        "      if flag:\n",
        "        l1 = l1.cons(lst.head)\n",
        "      else:\n",
        "        l2 = l2.cons(lst.head)\n",
        "      lst = lst.tail\n",
        "      flag = not flag\n",
        "    return merge(msort(l1),msort(l2))"
      ],
      "metadata": {
        "id": "PulliHBlOSoa"
      },
      "execution_count": 7,
      "outputs": []
    },
    {
      "cell_type": "code",
      "source": [
        "\"\"\"\n",
        "マージソートを行う関数\n",
        "lstの長さが1以下の時lstを返す\n",
        "それ以外の場合\n",
        "l1 に l2 に からのリストを代入\n",
        "flagにTrueを代入\n",
        "lstが0より大きい間回るループ\n",
        "  flagがTrueならl1の先頭にlst[0]を追加\n",
        "  flagがFalseならl2の先頭にlst[0]を追加\n",
        "  lstにlst[1:]を代入\n",
        "  flagを反転\n",
        "返り値としてmerge(l1, l2)を返す\n",
        "\"\"\""
      ],
      "metadata": {
        "id": "SooFvjV-PmFG"
      },
      "execution_count": null,
      "outputs": []
    },
    {
      "cell_type": "code",
      "source": [
        "def merge(l1,l2):\n",
        "  if isinstance(l1,Nil):\n",
        "    return l2\n",
        "  elif isinstance(l2,Nil):\n",
        "    return l1\n",
        "  else:\n",
        "    if l1.head < l2.head:\n",
        "      return NnList(l1.head,merge(l1.tail,l2))\n",
        "    else:\n",
        "      return NnList(l2.head,merge(l1,l2.tail))"
      ],
      "metadata": {
        "id": "nN824tnvOUog"
      },
      "execution_count": 8,
      "outputs": []
    },
    {
      "cell_type": "code",
      "source": [
        "\"\"\"\n",
        "marge関数の説明\n",
        "l1の長さが0以下ならl2を返す\n",
        "l2の長さが0以下ならl1を返す\n",
        "それ以外で\n",
        "もし、l1[0]がl2[0]よりも小さければ[l1[0]] + merge(l1[1:], l2)を返す\n",
        "それ以外なら[l2[0]] + merge(l1, l2[1:])を返す\n",
        "\"\"\""
      ],
      "metadata": {
        "id": "TL81GoNTPoDp"
      },
      "execution_count": null,
      "outputs": []
    },
    {
      "cell_type": "code",
      "source": [
        "l0 = Nil()\n",
        "l1 = NnList(2,l0)\n",
        "l2 = NnList(6,l1)\n",
        "l3 = NnList(3,l2)\n",
        "l4 = NnList(0,l3)\n",
        "l5 = NnList(1,l4)\n",
        "l6 = NnList(5,l5)\n",
        "l7 = NnList(7,l6)\n",
        "l8 = NnList(4,l7)\n",
        "print(str(l8))\n",
        "print(str(msort(l8)))"
      ],
      "metadata": {
        "colab": {
          "base_uri": "https://localhost:8080/",
          "height": 0
        },
        "id": "XVEn53nTOWUU",
        "outputId": "edfde25d-fd14-4886-d7d7-28dda61d9598"
      },
      "execution_count": 9,
      "outputs": [
        {
          "output_type": "stream",
          "name": "stdout",
          "text": [
            "4 | 7 | 5 | 1 | 0 | 3 | 6 | 2 | nil\n",
            "0 | 1 | 2 | 3 | 4 | 5 | 6 | 7 | nil\n"
          ]
        }
      ]
    },
    {
      "cell_type": "code",
      "source": [
        "class Stack(object):\n",
        "  def push(self,e):\n",
        "    pass\n",
        "  def pop(self):\n",
        "    pass\n",
        "  def top(self):\n",
        "    pass\n",
        "  def __str__(self):\n",
        "    pass"
      ],
      "metadata": {
        "id": "9p6ypX_gOYEf"
      },
      "execution_count": 10,
      "outputs": []
    },
    {
      "cell_type": "code",
      "source": [
        "\"\"\"\n",
        "クラスStackの説明\n",
        "\n",
        "Stackクラスはpush関数は引数として、selfとeを受け取る。\n",
        "pop関数は引数として、selfを受け取る。\n",
        "top関数は引数として、selfを受け取る。\n",
        "__str__関数は引数として、selfを受け取る。\n",
        "\n",
        "関数の処理はpassなので何もしない\n",
        "\"\"\""
      ],
      "metadata": {
        "id": "P6vOlXiRPUBL"
      },
      "execution_count": null,
      "outputs": []
    },
    {
      "cell_type": "code",
      "source": [
        "class EmptyStack(Stack):\n",
        "  def push(self,e):\n",
        "    return NeStack(e,self)\n",
        "  def pop(self):\n",
        "    return self\n",
        "  def top(self):\n",
        "    return None\n",
        "  def __str__(self):\n",
        "    return 'es'"
      ],
      "metadata": {
        "id": "sZ_RZxteOZPt"
      },
      "execution_count": 11,
      "outputs": []
    },
    {
      "cell_type": "code",
      "source": [
        "\"\"\"\n",
        "クラスEmptyStackの説明\n",
        "\n",
        "push関数は引数として、selfとeを受け取る。\n",
        "popはselfを返す\n",
        "topは何も表していないことを意味するNoneを返す\n",
        "文字列はempty stackを表すesを返す\n",
        "\"\"\""
      ],
      "metadata": {
        "id": "iEdjf-7aPVdw"
      },
      "execution_count": null,
      "outputs": []
    },
    {
      "cell_type": "code",
      "source": [
        "class NeStack(Stack):\n",
        "  topElt = None\n",
        "  botom = EmptyStack()\n",
        "  def __init__(self,t,b):\n",
        "    self.topElt = t\n",
        "    self.botom = b\n",
        "  def push(self,e):\n",
        "    return NeStack(e,self)\n",
        "  def pop(self):\n",
        "    return self.botom\n",
        "  def top(self):\n",
        "    return self.topElt\n",
        "  def __str__(self):\n",
        "    return str(self.topElt) + ' ; ' + str(self.botom)"
      ],
      "metadata": {
        "id": "4PyOaiM5OcE5"
      },
      "execution_count": 12,
      "outputs": []
    },
    {
      "cell_type": "code",
      "source": [
        "\"\"\"\n",
        "クラスNeStackの説明\n",
        "\n",
        "push関数は引数として、selfとeを受け取る。\n",
        "eをスタックのトップに追加する\n",
        "pop関数は引数として、selfを受け取る。\n",
        "スタックのトップを取り除く\n",
        "top関数は引数として、selfを受け取る。\n",
        "スタックのトップの要素を返す\n",
        "__str__関数は引数として、selfを受け取る。\n",
        "スタックの内容を文字列として返す"
      ],
      "metadata": {
        "id": "yQHxrQRAQcvz"
      },
      "execution_count": null,
      "outputs": []
    },
    {
      "cell_type": "code",
      "source": [
        "s1 = EmptyStack()\n",
        "s2 = s1.push(0)\n",
        "s3 = s2.push(1)\n",
        "s4 = s3.push(2)\n",
        "print(str(s4))\n",
        "print(s4.top())\n",
        "s5 = s4.pop()\n",
        "print(str(s5))\n",
        "print(s5.top())"
      ],
      "metadata": {
        "colab": {
          "base_uri": "https://localhost:8080/",
          "height": 0
        },
        "id": "_7tOHuNLOePB",
        "outputId": "fec965ea-6173-4bcb-a7fb-7952d3584f0c"
      },
      "execution_count": 13,
      "outputs": [
        {
          "output_type": "stream",
          "name": "stdout",
          "text": [
            "2 ; 1 ; 0 ; es\n",
            "2\n",
            "1 ; 0 ; es\n",
            "1\n"
          ]
        }
      ]
    },
    {
      "cell_type": "code",
      "source": [
        "\"\"\"\n",
        "スタックを作成\n",
        "0をpush\n",
        "1をpush\n",
        "2をpush\n",
        "スタックの内容を表示\n",
        "スタックのトップの要素を表示\n",
        "pop\n",
        "スタックの内容を表示\n",
        "スタックのトップの要素を表示\n",
        "\"\"\""
      ],
      "metadata": {
        "id": "XMALxSAuRZ_M"
      },
      "execution_count": null,
      "outputs": []
    },
    {
      "cell_type": "code",
      "source": [
        "class Queue(object):\n",
        "  elements = []\n",
        "  def __init__(self):\n",
        "    self.elements = []\n",
        "  def isEmpty(self):\n",
        "    if self.elements == []:\n",
        "      return True\n",
        "    else:\n",
        "      return False\n",
        "  def top(self):\n",
        "    if self.isEmpty():\n",
        "      return None\n",
        "    else:\n",
        "      return self.elements[0]\n",
        "  def dequeue(self):\n",
        "    if not self.isEmpty():\n",
        "      self.elements = self.elements[1:]\n",
        "  def enqueue(self,e):\n",
        "    self.elements = self.elements + [e]\n",
        "  def str(self):\n",
        "    return str(self.elements)"
      ],
      "metadata": {
        "id": "MwfhQ5grOggP"
      },
      "execution_count": 14,
      "outputs": []
    },
    {
      "cell_type": "code",
      "source": [
        "\"\"\"\n",
        "クラスQueueの説明\n",
        "先入れ先出しのデータ構造のプログラム\n",
        "\n",
        "initはキューの初期化を行っている\n",
        "isEmptyはキューが空かを確認し\n",
        "空の場合はTrue\n",
        "それ以外の場合はFalseを返す\n",
        "\n",
        "topはキューの先頭要素を返す\n",
        "dequeueはキューの先頭要素を削除する\n",
        "enqueueはキューの末尾に要素を追加する\n",
        "__str__はキューの要素を文字列として返す\n",
        "\"\"\""
      ],
      "metadata": {
        "id": "51C_plN7SFEE"
      },
      "execution_count": null,
      "outputs": []
    },
    {
      "cell_type": "code",
      "source": [
        "q = Queue()\n",
        "print(q.str())\n",
        "print(q.isEmpty())\n",
        "q.enqueue(1)\n",
        "q.enqueue(2)\n",
        "q.enqueue(3)\n",
        "print(q.str())\n",
        "print(q.isEmpty())\n",
        "print(q.top())\n",
        "q.dequeue()\n",
        "print(q.str())\n",
        "q.dequeue()\n",
        "print(q.str())"
      ],
      "metadata": {
        "colab": {
          "base_uri": "https://localhost:8080/",
          "height": 0
        },
        "id": "Bjx_yygnOhe0",
        "outputId": "c3300447-a54d-4a49-c9b4-98802763357f"
      },
      "execution_count": 15,
      "outputs": [
        {
          "output_type": "stream",
          "name": "stdout",
          "text": [
            "[]\n",
            "True\n",
            "[1, 2, 3]\n",
            "False\n",
            "1\n",
            "[2, 3]\n",
            "[3]\n"
          ]
        }
      ]
    },
    {
      "cell_type": "code",
      "source": [
        "\"\"\"\n",
        "キューを作成([])\n",
        "キューが空かを確認(True)\n",
        "1をenqueue\n",
        "2をenqueue\n",
        "3をenqueue\n",
        "キューの要素を表示([1, 2, 3])\n",
        "キューが空かを確認(False)\n",
        "キューの先頭要素を表示(1)\n",
        "キューの先頭要素を削除\n",
        "キューの要素を表示([2, 3])\n",
        "キューの先頭要素を削除\n",
        "キューの要素を表示([3])\n",
        "\"\"\""
      ],
      "metadata": {
        "id": "wqutw1RPS3FP"
      },
      "execution_count": null,
      "outputs": []
    },
    {
      "cell_type": "code",
      "source": [
        "class Nat(object):\n",
        "  def plus(self,y):\n",
        "    pass\n",
        "  def multiply(self,y):\n",
        "    pass\n",
        "  def str(self):\n",
        "    pass"
      ],
      "metadata": {
        "id": "BXVL5aX7Ok12"
      },
      "execution_count": 16,
      "outputs": []
    },
    {
      "cell_type": "code",
      "source": [
        "\"\"\"\n",
        "Natクラスの説明\n",
        "\n",
        "Natクラスはplus関数は引数として、selfとyを受け取る。\n",
        "multiply関数は引数として、selfとyを受け取る。\n",
        "str関数は引数として、selfを受け取る。\n",
        "\n",
        "関数の処理はpassなので何もしない\n",
        "\"\"\""
      ],
      "metadata": {
        "id": "zGnPc5nnTpar"
      },
      "execution_count": null,
      "outputs": []
    },
    {
      "cell_type": "code",
      "source": [
        "class Zero(Nat):\n",
        "  def plus(self,y):\n",
        "    return y\n",
        "  def multiply(self,y):\n",
        "    return self\n",
        "  def str(self):\n",
        "    return '0'"
      ],
      "metadata": {
        "id": "vy9Fd8DEOmk1"
      },
      "execution_count": 17,
      "outputs": []
    },
    {
      "cell_type": "code",
      "source": [
        "\"\"\"\n",
        "plusはyの返り値を返す（加算）\n",
        "multiplyはselefの返り値を返す（乗算）\n",
        "strは0の返り値を返す（文字列表示）\n",
        "\"\"\""
      ],
      "metadata": {
        "id": "BXChybD2UMPE"
      },
      "execution_count": null,
      "outputs": []
    },
    {
      "cell_type": "code",
      "source": [
        "class NzNat(Nat):\n",
        "  prev = Nat()\n",
        "  def __init__(self,p):\n",
        "    self.prev = p\n",
        "  def plus(self,y):\n",
        "    return NzNat(self.prev.plus(y))\n",
        "  def multiply(self,y):\n",
        "    return y.plus(self.prev.multiply(y))\n",
        "  def str(self):\n",
        "    return 's(' + self.prev.str() + ')'"
      ],
      "metadata": {
        "id": "q08CzKp_OoPo"
      },
      "execution_count": 18,
      "outputs": []
    },
    {
      "cell_type": "code",
      "source": [
        "\"\"\"\n",
        "natクラスを継承している\n",
        "\n",
        "initはNzNatオブジェクトを初期化\n",
        "plusは引数として、selfとyを受け取る\n",
        "yを加算した値を返す\n",
        "multiplyは引数として、selfとyを受け取る\n",
        "yを乗算した値を返す\n",
        "strは引数として、selfを受け取る\n",
        "値を文字列として返す\n",
        "\"\"\""
      ],
      "metadata": {
        "id": "8BpdhheRUvKi"
      },
      "execution_count": null,
      "outputs": []
    },
    {
      "cell_type": "code",
      "source": [
        "zero = Zero()\n",
        "one = NzNat(zero)\n",
        "two = NzNat(one)\n",
        "three = NzNat(two)\n",
        "four = NzNat(three)\n",
        "print('zero: ', zero.str())\n",
        "print('one: ', one.str())\n",
        "print('two: ', two.str())\n",
        "print('three: ', three.str())\n",
        "print('four: ', four.str())\n",
        "print(three.str(), '+', four.str(), ' = ', three.plus(four).str())\n",
        "print(three.str(), '*', two.str(), ' = ', three.multiply(two).str())"
      ],
      "metadata": {
        "colab": {
          "base_uri": "https://localhost:8080/",
          "height": 0
        },
        "id": "-TaD-TzaOqX3",
        "outputId": "dd40d0d5-fb93-4c5f-b4c4-0ab06fd6aa4e"
      },
      "execution_count": 19,
      "outputs": [
        {
          "output_type": "stream",
          "name": "stdout",
          "text": [
            "zero:  0\n",
            "one:  s(0)\n",
            "two:  s(s(0))\n",
            "three:  s(s(s(0)))\n",
            "four:  s(s(s(s(0))))\n",
            "s(s(s(0))) + s(s(s(s(0))))  =  s(s(s(s(s(s(s(0)))))))\n",
            "s(s(s(0))) * s(s(0))  =  s(s(s(s(s(s(0))))))\n"
          ]
        }
      ]
    },
    {
      "cell_type": "markdown",
      "source": [
        "#1+1の結果と2が等しいことを示す\n",
        "\n",
        "まず、変数xに1+1の値を代入する<br>\n",
        "次に、変数yに2を代入する<br>\n",
        "もし、それぞれに代入した値が等しければ「xとyは等しい値です」<br>\n",
        "そうでなければ「xとyは等しくない値です」と表示する<br>"
      ],
      "metadata": {
        "id": "UkmbcQV0WvoJ"
      }
    },
    {
      "cell_type": "code",
      "source": [
        "zero = Zero()\n",
        "one = NzNat(zero)\n",
        "x = NzNat(one).str()\n",
        "y = 's(s(0))'\n",
        "\n",
        "print(x)\n",
        "print(y)\n",
        "\n",
        "if x == y:\n",
        "  print('xとyは等しい値です')\n",
        "else:\n",
        "  print('xとyは等しくない値です')"
      ],
      "metadata": {
        "colab": {
          "base_uri": "https://localhost:8080/",
          "height": 0
        },
        "id": "HktHcsy0OsRT",
        "outputId": "b9d61737-27c5-4c5d-c94a-6e98c4a3bce8"
      },
      "execution_count": 20,
      "outputs": [
        {
          "output_type": "stream",
          "name": "stdout",
          "text": [
            "s(s(0))\n",
            "s(s(0))\n",
            "xとyは等しい値です\n"
          ]
        }
      ]
    },
    {
      "cell_type": "code",
      "source": [
        "x = 1 + 1\n",
        "y = 2\n",
        "\n",
        "if x == y:\n",
        "  print('xとyは等しい値です')\n",
        "else:\n",
        "  print('xとyは等しくない値です')"
      ],
      "metadata": {
        "colab": {
          "base_uri": "https://localhost:8080/",
          "height": 0
        },
        "id": "B7NgxwUYOuGs",
        "outputId": "75b5c9d7-8020-4b29-bcc0-464430bbb10e"
      },
      "execution_count": 21,
      "outputs": [
        {
          "output_type": "stream",
          "name": "stdout",
          "text": [
            "xとyは等しい値です\n"
          ]
        }
      ]
    },
    {
      "cell_type": "code",
      "source": [
        "\"\"\"\n",
        "\n",
        "\n",
        "\n",
        "\n",
        "\n",
        "\n",
        "\n",
        "\n",
        "\n",
        "\n",
        "\n",
        "\n",
        "\n",
        "\n",
        "\n",
        "\"\"\"\n"
      ],
      "metadata": {
        "id": "QKG6M4V_XINB"
      },
      "execution_count": null,
      "outputs": []
    },
    {
      "cell_type": "code",
      "source": [],
      "metadata": {
        "id": "a6G5WHl0XIco"
      },
      "execution_count": null,
      "outputs": []
    },
    {
      "cell_type": "code",
      "source": [],
      "metadata": {
        "id": "d0zHYxgbXMyW"
      },
      "execution_count": null,
      "outputs": []
    },
    {
      "cell_type": "code",
      "source": [],
      "metadata": {
        "id": "q4JVyKS3XM-i"
      },
      "execution_count": null,
      "outputs": []
    },
    {
      "cell_type": "code",
      "source": [],
      "metadata": {
        "id": "PScJAAwdXNGz"
      },
      "execution_count": null,
      "outputs": []
    },
    {
      "cell_type": "code",
      "source": [],
      "metadata": {
        "id": "Bgc-oFLSXNib"
      },
      "execution_count": null,
      "outputs": []
    },
    {
      "cell_type": "code",
      "source": [],
      "metadata": {
        "id": "T8t0Yq2XXI2-"
      },
      "execution_count": null,
      "outputs": []
    },
    {
      "cell_type": "code",
      "source": [],
      "metadata": {
        "id": "9dPEUmJRXs6S"
      },
      "execution_count": null,
      "outputs": []
    },
    {
      "cell_type": "code",
      "source": [],
      "metadata": {
        "id": "iYyNQS2tXtCX"
      },
      "execution_count": null,
      "outputs": []
    }
  ]
}